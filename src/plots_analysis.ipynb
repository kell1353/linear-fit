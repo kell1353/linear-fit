{
 "cells": [
  {
   "cell_type": "markdown",
   "metadata": {},
   "source": [
    "# Analyzing results"
   ]
  },
  {
   "cell_type": "markdown",
   "metadata": {},
   "source": [
    "We will use python and this jupyter notebook to plot and analyze the results obtained from the\n",
    "fortran source code."
   ]
  },
  {
   "cell_type": "markdown",
   "metadata": {},
   "source": [
    "## Plotting results\n",
    "\n",
    "For this we will use the `numpy` and `matplotlib.pyplot` packages"
   ]
  },
  {
   "cell_type": "code",
   "execution_count": null,
   "metadata": {},
   "outputs": [],
   "source": [
    "# Importing numpy and matplotlib\n",
    "import numpy as np \n",
    "import matplotlib.pyplot as plt"
   ]
  },
  {
   "cell_type": "code",
   "execution_count": null,
   "metadata": {},
   "outputs": [],
   "source": [
    "# different styles are predefined that give different appearance to the plots. This one emulates the style of \n",
    "# the figures you'll find on statisical analysis news site fivethirtyeight.com\n",
    "plt.style.use('fivethirtyeight')"
   ]
  },
  {
   "cell_type": "code",
   "execution_count": null,
   "metadata": {},
   "outputs": [],
   "source": [
    "# reading data stored in results.dat\n",
    "\n",
    "file_name = 'results.dat'\n",
    "\n",
    "# loadtxt reads all the data in a file and stores them in an array (assuming it's all floats)\n",
    "# we use skiprows=1 to avoid the header\n",
    "all_data = np.loadtxt(file_name,skiprows=1)\n",
    "\n",
    "# We transpose the array in order to be able to extract each column individually\n",
    "all_data = all_data.transpose()\n",
    "\n",
    "number_of_protons = all_data[0]\n",
    "number_of_neutrons = all_data[1]\n",
    "experimental_values = all_data[2]\n",
    "experimental_uncertainties = all_data[3]\n",
    "theoretical_values = all_data[4]\n",
    "theoretical_uncertainties = all_data[5]\n"
   ]
  },
  {
   "cell_type": "markdown",
   "metadata": {},
   "source": [
    "### Comparing Experimental and Theoretical values"
   ]
  },
  {
   "cell_type": "markdown",
   "metadata": {},
   "source": [
    "#### As a function of the number of protons"
   ]
  },
  {
   "cell_type": "code",
   "execution_count": null,
   "metadata": {},
   "outputs": [],
   "source": [
    "# The plot function can take two equally sized arrays,\n",
    "# taking the first one as the x coordinates and the second one as the y coordinates\n",
    "\n",
    "# In pyplot, using the argument '.' will draw points as a marker instead of lines.\n",
    "# Other markers are available (circles 'o', triangles '^', diamonds 'd', starts '*', .... )\n",
    "# See the notes section in the documentation for more details\n",
    "# https://matplotlib.org/3.1.1/api/_as_gen/matplotlib.pyplot.plot.html\n",
    "plt.plot(number_of_protons, experimental_values-theoretical_values, 'bo', markersize=2)\n",
    "\n",
    "# Set appropriate labels with the correct units.\n",
    "plt.xlabel('Number of Protons')\n",
    "plt.ylabel('Experimental_BE - Theoretical_BE')\n",
    "plt.show()"
   ]
  },
  {
   "cell_type": "markdown",
   "metadata": {},
   "source": [
    "#### As a function of the number of neutrons"
   ]
  },
  {
   "cell_type": "code",
   "execution_count": null,
   "metadata": {
    "scrolled": true
   },
   "outputs": [],
   "source": [
    "# The plot function can take two equally sized arrays,\n",
    "# taking the first one as the x coordinates and the second one as the y coordinates\n",
    "plt.plot(number_of_neutrons, experimental_values-theoretical_values, 'bo', markersize=2)\n",
    "\n",
    "# Set appropriate labels with the correct units.\n",
    "plt.xlabel('Number of Neutrons')\n",
    "plt.ylabel('Experimental_BE - Theoretical_BE')\n",
    "plt.show()"
   ]
  },
  {
   "cell_type": "markdown",
   "metadata": {},
   "source": [
    "What type of structure do you see in the difference between experimental and theoretical values?\n",
    "\n",
    "Describe it and explain the reasons behind it in the cell below"
   ]
  },
  {
   "cell_type": "markdown",
   "metadata": {},
   "source": [
    "**It seems for the isotopes with the number of protons and neutrons close to zero the difference between the experimental and therectical binding energy is quite large. As we get towards the greater elements the difference is clustered around zero with dips around (25, 50, 80 protons) and (50, 80, 125 neutrons). The differences in values is most likely due to the fact that we haven't encapsulated everything that is going on within the nucleus in our model. There are likely other things at work that we haven't adjusted for.**"
   ]
  },
  {
   "cell_type": "markdown",
   "metadata": {},
   "source": [
    "### Comparing theoretical and experimental uncertainties"
   ]
  },
  {
   "cell_type": "code",
   "execution_count": null,
   "metadata": {},
   "outputs": [],
   "source": [
    "# Make a plot of the experimental errors in this cell\n",
    "plt.plot(number_of_protons, experimental_uncertainties, 'ro', markersize=2)\n",
    "\n",
    "# Set appropriate labels with the correct units.\n",
    "plt.xlabel('Number of Protons')\n",
    "plt.ylabel('Experimental Error')\n",
    "plt.show()"
   ]
  },
  {
   "cell_type": "code",
   "execution_count": null,
   "metadata": {},
   "outputs": [],
   "source": [
    "# Make a plot of the theoretical errors in this cell\n",
    "plt.plot(number_of_protons, theoretical_uncertainties, 'ro', markersize=2)\n",
    "\n",
    "# Set appropriate labels with the correct units.\n",
    "plt.xlabel('Number of Protons')\n",
    "plt.ylabel('Theoretical Error')\n",
    "plt.show()"
   ]
  },
  {
   "cell_type": "markdown",
   "metadata": {},
   "source": [
    "Discuss in the cell below if the experimental and theoretical errors are similar or not (do they have the same order of magnitude). Also discuss why"
   ]
  },
  {
   "cell_type": "markdown",
   "metadata": {},
   "source": [
    "**The experimental and theoretical uncertainty is very different. The theoretical error is (practically zero) which is orders of magnitude less than the experimental error.**\n",
    "\n",
    "**The experimental error is most likely due to the accuracy of the instruments used to measure the energy since the instruments come with a measure of uncertainty.** \n",
    "\n",
    "**Whereas the theoretical error is calculated using the covariance matrix and our linear terms. Since the covariance matrix is constructed using the experimental data it isn't suprising that the error is so small for the binding energies for the same isotopes that we used to construct our parameters.**"
   ]
  },
  {
   "cell_type": "markdown",
   "metadata": {},
   "source": [
    "## Advanced part of the project"
   ]
  },
  {
   "cell_type": "markdown",
   "metadata": {},
   "source": [
    "### Reading the data from results file"
   ]
  },
  {
   "cell_type": "code",
   "execution_count": null,
   "metadata": {},
   "outputs": [],
   "source": [
    "# reading data stored in results_advanced.dat\n",
    "\n",
    "file_name = 'results_advanced.dat'\n",
    "\n",
    "# loadtxt reads all the data in a file and stores them in an array (assuming it's all floats)\n",
    "# we use skiprows=1 to avoid the header\n",
    "all_data = np.loadtxt(file_name,skiprows=1)\n",
    "\n",
    "# We transpose the array in order to be able to extract each column individually\n",
    "all_data = all_data.transpose()\n",
    "\n",
    "number_of_protons = all_data[0]\n",
    "pos_neutron_stable_isotopes = all_data[1]\n",
    "pos_neutron_neutron_drip = all_data[2]"
   ]
  },
  {
   "cell_type": "markdown",
   "metadata": {},
   "source": [
    "### Drawing the positions of the stable isotopes and neutron dripline"
   ]
  },
  {
   "cell_type": "code",
   "execution_count": null,
   "metadata": {},
   "outputs": [],
   "source": [
    "# Your plots here should be two lines. (not points like in the previous ones)\n",
    "\n",
    "# The x-axis should indicate the number of neutrons\n",
    "# The y-axis should indicate the number of protons\n",
    "plt.plot(pos_neutron_stable_isotopes, number_of_protons, label='Pos. of Stable Isotopes')\n",
    "plt.plot(pos_neutron_neutron_drip, number_of_protons, label='Pos. Neutron Dripline')\n",
    "\n",
    "plt.xlabel('Number of Neutrons')\n",
    "plt.ylabel('Number of Protons')\n",
    "# legend displays the labels given in each plot\n",
    "plt.legend()\n",
    "plt.show()\n"
   ]
  },
  {
   "cell_type": "markdown",
   "metadata": {},
   "source": [
    "## Defining a function to calculate the reduced $\\chi^2$"
   ]
  },
  {
   "cell_type": "code",
   "execution_count": null,
   "metadata": {},
   "outputs": [],
   "source": [
    "# Python allows you to define functions!\n",
    "\n",
    "def reduced_chi_square(experiment, sigma, theory, n_parameters):\n",
    "    # The function takes numpy arrays containing the experimental and theoretical values\n",
    "    chi_square = ((experiment - theory)/sigma)**2\n",
    "    # chi_square is anohter numpy array that contains the results of the element-wise operations\n",
    "    n_data = len(experiment)\n",
    "    # The len() function gives you the length of an array\n",
    "    \n",
    "    # we can use the numpy function sum to add all the elements in chi_square\n",
    "    chi_square = np.sum(chi_square)/(n_data - n_parameters)\n",
    "    return chi_square\n",
    "\n",
    "# Python uses indentation to indicate the start and\n",
    "# end of block constructs (definitions, for loops, if statements, etc)"
   ]
  },
  {
   "cell_type": "code",
   "execution_count": null,
   "metadata": {},
   "outputs": [],
   "source": [
    "# Now we can use our new function to calculate the reduced chi square\n",
    "\n",
    "chi2 = reduced_chi_square(experimental_values, experimental_uncertainties, theoretical_values, 6)\n",
    "\n",
    "print('The reduced chi sqaure for the liquid drop model is :',chi2)"
   ]
  },
  {
   "cell_type": "code",
   "execution_count": null,
   "metadata": {},
   "outputs": [],
   "source": []
  }
 ],
 "metadata": {
  "kernelspec": {
   "display_name": "Python 3",
   "language": "python",
   "name": "python3"
  },
  "language_info": {
   "codemirror_mode": {
    "name": "ipython",
    "version": 3
   },
   "file_extension": ".py",
   "mimetype": "text/x-python",
   "name": "python",
   "nbconvert_exporter": "python",
   "pygments_lexer": "ipython3",
   "version": "3.7.6"
  }
 },
 "nbformat": 4,
 "nbformat_minor": 2
}
